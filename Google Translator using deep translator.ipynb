{
 "cells": [
  {
   "cell_type": "code",
   "execution_count": 3,
   "id": "bee73039",
   "metadata": {},
   "outputs": [
    {
     "data": {
      "text/plain": [
       "'weiter so, du bist toll'"
      ]
     },
     "execution_count": 3,
     "metadata": {},
     "output_type": "execute_result"
    }
   ],
   "source": [
    " from deep_translator import GoogleTranslator\n",
    "\n",
    "GoogleTranslator(source='auto', target='de').translate(\"keep it up, you are awesome\") \n"
   ]
  },
  {
   "cell_type": "code",
   "execution_count": 4,
   "id": "bb22faff",
   "metadata": {},
   "outputs": [
    {
     "data": {
      "text/plain": [
       "'इसे जारी रखो, तुम कमाल हो'"
      ]
     },
     "execution_count": 4,
     "metadata": {},
     "output_type": "execute_result"
    }
   ],
   "source": [
    "GoogleTranslator(source='auto', target='hi').translate(\"keep it up, you are awesome\") "
   ]
  },
  {
   "cell_type": "code",
   "execution_count": null,
   "id": "345cd5c6",
   "metadata": {},
   "outputs": [],
   "source": []
  }
 ],
 "metadata": {
  "kernelspec": {
   "display_name": "Python 3 (ipykernel)",
   "language": "python",
   "name": "python3"
  },
  "language_info": {
   "codemirror_mode": {
    "name": "ipython",
    "version": 3
   },
   "file_extension": ".py",
   "mimetype": "text/x-python",
   "name": "python",
   "nbconvert_exporter": "python",
   "pygments_lexer": "ipython3",
   "version": "3.9.13"
  }
 },
 "nbformat": 4,
 "nbformat_minor": 5
}
